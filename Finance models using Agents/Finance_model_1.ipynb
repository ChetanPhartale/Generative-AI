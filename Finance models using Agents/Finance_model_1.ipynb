{
 "cells": [
  {
   "cell_type": "code",
   "execution_count": 1,
   "metadata": {
    "colab": {
     "base_uri": "https://localhost:8080/"
    },
    "id": "6b5xwQFzo1_i",
    "outputId": "ec73c516-d86a-4439-cd61-7b3cf3d78b18"
   },
   "outputs": [],
   "source": [
    "# pip install -U phidata\n",
    "# !pip install groq\n",
    "# !pip install dotenv"
   ]
  },
  {
   "cell_type": "code",
   "execution_count": 20,
   "metadata": {
    "colab": {
     "base_uri": "https://localhost:8080/"
    },
    "id": "jCMGJBElpKsM",
    "outputId": "f84f3f66-fcbd-430f-94f6-1a5c9a68224a"
   },
   "outputs": [
    {
     "name": "stdout",
     "output_type": "stream",
     "text": [
      "┏━ Message ━━━━━━━━━━━━━━━━━━━━━━━━━━━━━━━━━━━━━━━━━━━━━━━━━━━━━━━━━━━━━━━━━━━━━━━━━━━━━━━━━━━━━━━━┓\n",
      "┃                                                                                                  ┃\n",
      "┃ Perform a detailed technical and fundamental analysis of the following two stocks, TSLA and NVDA ┃\n",
      "┃                                                                                                  ┃\n",
      "┗━━━━━━━━━━━━━━━━━━━━━━━━━━━━━━━━━━━━━━━━━━━━━━━━━━━━━━━━━━━━━━━━━━━━━━━━━━━━━━━━━━━━━━━━━━━━━━━━━━┛\n",
      "┏━ Response (5.3s) ━━━━━━━━━━━━━━━━━━━━━━━━━━━━━━━━━━━━━━━━━━━━━━━━━━━━━━━━━━━━━━━━━━━━━━━━━━━━━━━━┓\n",
      "┃                                                                                                  ┃\n",
      "┃                                        Technical Analysis                                        ┃\n",
      "┃                                                                                                  ┃\n",
      "┃ Based on the current stock prices, TSLA is trading at $403.84 and NVDA is trading at $134.29.    ┃\n",
      "┃                                                                                                  ┃\n",
      "┃                                       Fundamental Analysis                                       ┃\n",
      "┃                                                                                                  ┃\n",
      "┃ The fundamental analysis of TSLA and NVDA is as follows:                                         ┃\n",
      "┃                                                                                                  ┃\n",
      "┃                                                                                                  ┃\n",
      "┃                                   Mark…   PE      PB      Divi…                 52-We…   52-W…   ┃\n",
      "┃   Comp…   Symb…   Sect…   Indu…   Cap     Ratio   Ratio   Yield   EPS    Beta   High     Low     ┃\n",
      "┃  ━━━━━━━━━━━━━━━━━━━━━━━━━━━━━━━━━━━━━━━━━━━━━━━━━━━━━━━━━━━━━━━━━━━━━━━━━━━━━━━━━━━━━━━━━━━━━━  ┃\n",
      "┃   Tesl…   TSLA    Cons…   Auto    1,29…   123.…   18.52   N/A     3.63   2.30   488.54   138.…   ┃\n",
      "┃   Inc.            Cycl…   Manu…                                                                  ┃\n",
      "┃   NVID…   NVDA    Tech…   Semi…   3,28…   30.31   77.00   0.00…   2.54   1.66   152.89   47.32   ┃\n",
      "┃   Corp…                                                                                          ┃\n",
      "┃                                                                                                  ┃\n",
      "┃                                                                                                  ┃\n",
      "┃                                     Analyst Recommendations                                      ┃\n",
      "┃                                                                                                  ┃\n",
      "┃ The analyst recommendations for TSLA and NVDA are as follows:                                    ┃\n",
      "┃                                                                                                  ┃\n",
      "┃                                               TSLA                                               ┃\n",
      "┃                                                                                                  ┃\n",
      "┃                                                                                                  ┃\n",
      "┃   Period   Strong Buy   Buy   Hold   Sell   Strong Sell                                          ┃\n",
      "┃  ━━━━━━━━━━━━━━━━━━━━━━━━━━━━━━━━━━━━━━━━━━━━━━━━━━━━━━━                                         ┃\n",
      "┃   0m       6            13    15     8      5                                                    ┃\n",
      "┃   -1m      5            13    17     8      5                                                    ┃\n",
      "┃   -2m      6            12    19     7      4                                                    ┃\n",
      "┃                                                                                                  ┃\n",
      "┃                                                                                                  ┃\n",
      "┃                                               NVDA                                               ┃\n",
      "┃                                                                                                  ┃\n",
      "┃                                                                                                  ┃\n",
      "┃   Period   Strong Buy   Buy   Hold   Sell   Strong Sell                                          ┃\n",
      "┃  ━━━━━━━━━━━━━━━━━━━━━━━━━━━━━━━━━━━━━━━━━━━━━━━━━━━━━━━                                         ┃\n",
      "┃   0m       12           48    4      0      0                                                    ┃\n",
      "┃   -1m      12           48    4      0      0                                                    ┃\n",
      "┃   -2m      11           48    4      0      0                                                    ┃\n",
      "┃                                                                                                  ┃\n",
      "┃                                                                                                  ┃\n",
      "┃ Overall, the technical and fundamental analysis of TSLA and NVDA suggests that both stocks have  ┃\n",
      "┃ strong potential for growth. However, it's essential to consider the analyst recommendations and ┃\n",
      "┃ other market factors before making any investment decisions.                                     ┃\n",
      "┃                                                                                                  ┃\n",
      "┗━━━━━━━━━━━━━━━━━━━━━━━━━━━━━━━━━━━━━━━━━━━━━━━━━━━━━━━━━━━━━━━━━━━━━━━━━━━━━━━━━━━━━━━━━━━━━━━━━━┛"
     ]
    }
   ],
   "source": [
    "from phi.agent import Agent\n",
    "from phi.model.groq import Groq\n",
    "from phi.tools.yfinance import YFinanceTools\n",
    "from dotenv import load_dotenv\n",
    "from APi Keys import Groq_API_Key\n",
    "\n",
    "import os\n",
    "os.environ[\"GROQ_API_KEY\"] = Groq_API_Key\n",
    "\n",
    "load_dotenv()\n",
    "\n",
    "agent1 = Agent(\n",
    "    model = Groq(id = \"llama-3.3-70b-versatile\",),\n",
    "    tools = [YFinanceTools(stock_price = True, analyst_recommendations = True, stock_fundamentals = True)],\n",
    "    show_tool_colls = True,\n",
    "    markdown=True,\n",
    "    instructions = [\"Use tables to display data\"]\n",
    ")\n",
    "\n",
    "agent1.print_response(\"Perform a detailed technical and fundamental analysis of the following two stocks, TSLA and NVDA\")"
   ]
  },
  {
   "cell_type": "code",
   "execution_count": null,
   "metadata": {
    "id": "vdCfWg4XwPBS"
   },
   "outputs": [],
   "source": []
  },
  {
   "cell_type": "code",
   "execution_count": null,
   "metadata": {
    "id": "4JmeGrwjpke0"
   },
   "outputs": [],
   "source": []
  }
 ],
 "metadata": {
  "colab": {
   "provenance": []
  },
  "kernelspec": {
   "display_name": "Python 3 (ipykernel)",
   "language": "python",
   "name": "python3"
  },
  "language_info": {
   "codemirror_mode": {
    "name": "ipython",
    "version": 3
   },
   "file_extension": ".py",
   "mimetype": "text/x-python",
   "name": "python",
   "nbconvert_exporter": "python",
   "pygments_lexer": "ipython3",
   "version": "3.9.12"
  }
 },
 "nbformat": 4,
 "nbformat_minor": 1
}
