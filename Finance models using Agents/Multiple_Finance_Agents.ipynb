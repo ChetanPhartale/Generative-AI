{
 "cells": [
  {
   "cell_type": "code",
   "execution_count": 1,
   "metadata": {
    "colab": {
     "base_uri": "https://localhost:8080/"
    },
    "id": "ChGYKF3j5QgS",
    "outputId": "723aaa5c-a438-4313-db0a-2d14bf4b2807"
   },
   "outputs": [],
   "source": [
    "# !pip install -U phidata\n",
    "# !pip install groq\n",
    "# !pip install duckduckgo-search"
   ]
  },
  {
   "cell_type": "code",
   "execution_count": null,
   "metadata": {
    "id": "MYIIujvX_dF2"
   },
   "outputs": [],
   "source": [
    "##### ---- Using gpt-4o  ---- #####\n",
    "\n",
    "from phi.agent import Agent\n",
    "from phi.model.groq import Groq\n",
    "from phi.tools.yfinance import YFinanceTools\n",
    "from phi.tools.duckduckgo import DuckDuckGo\n",
    "from dotenv import load_dotenv\n",
    "import os\n",
    "from phi.model.openai import OpenAIChat\n",
    "from APi Keys import Groq_API_Key\n",
    "from APi Keys import OPENAI_API_KEY\n",
    "\n",
    "# Set OpenAI API key\n",
    "os.environ[\"OPENAI_API_KEY\"] = OPENAI_API_KEY\n",
    "# Load environment variables if needed\n",
    "load_dotenv()\n",
    "\n",
    "# Create the agents\n",
    "web_agent = Agent(\n",
    "    name=\"web_agent\",\n",
    "    model=OpenAIChat(id=\"gpt-4o\"),\n",
    "    tools=[DuckDuckGo()],\n",
    "    show_tool_colls=True,\n",
    "    markdown=True,\n",
    "    instructions=[\"Always include sources\"]\n",
    ")\n",
    "\n",
    "finance_agent = Agent(\n",
    "    name=\"finance_agent\",\n",
    "    role='Get financial data',\n",
    "    model=OpenAIChat(id=\"gpt-4o\"),\n",
    "    tools=[YFinanceTools(stock_price=True, analyst_recommendations=True, stock_fundamentals=True, company_info=True)],\n",
    "    show_tool_colls=True,\n",
    "    markdown=True,\n",
    "    instructions=[\"Use tables to display data\"]\n",
    ")\n",
    "\n",
    "manager_agent = Agent(\n",
    "    name=\"manager_agent\",\n",
    "    team=[web_agent, finance_agent],\n",
    "    show_tool_colls=True,\n",
    "    markdown=True,\n",
    "    instructions=[\"Always include sources\", \"Use tables to display data\"]\n",
    ")\n",
    "\n",
    "# Request response\n",
    "manager_agent.print_response(\"Summarize analyst recommendations and share the latest news for NVDA\", stream=True)"
   ]
  },
  {
   "cell_type": "code",
   "execution_count": null,
   "metadata": {
    "id": "F_sXU36__Np_"
   },
   "outputs": [],
   "source": [
    "##### ---- Using Llama 3.3  ---- #####\n",
    "\n",
    "from phi.agent import Agent\n",
    "from phi.model.groq import Groq\n",
    "from phi.tools.yfinance import YFinanceTools\n",
    "from phi.tools.duckduckgo import DuckDuckGo\n",
    "from dotenv import load_dotenv\n",
    "import os\n",
    "\n",
    "# Set Groq API key\n",
    "os.environ[\"GROQ_API_KEY\"] = Groq_API_Key\n",
    "# Load environment variables\n",
    "load_dotenv()\n",
    "\n",
    "# Create web agent using only Groq (Llama 3.3 model)\n",
    "web_agent = Agent(\n",
    "    name=\"web_agent\",\n",
    "    model=Groq(id=\"llama-3.3-70b-versatile\"),  # Use Groq (Llama 3.3) model\n",
    "    tools=[DuckDuckGo()],\n",
    "    show_tool_colls=True,\n",
    "    markdown=True,\n",
    "    instructions=[\"Always include sources\"]\n",
    ")\n",
    "\n",
    "# Create finance agent using only Groq (Llama 3.3 model)\n",
    "finance_agent = Agent(\n",
    "    name=\"finance_agent\",\n",
    "    role='Get financial data',\n",
    "    model=Groq(id=\"llama-3.3-70b-versatile\"),  # Use Groq (Llama 3.3) model\n",
    "    tools=[YFinanceTools(stock_price=True, analyst_recommendations=True, stock_fundamentals=True, company_info=True)],\n",
    "    show_tool_colls=True,\n",
    "    markdown=True,\n",
    "    instructions=[\"Use tables to display data\"]\n",
    ")\n",
    "\n",
    "# Manager agent controlling both web and finance agents\n",
    "manager_agent = Agent(\n",
    "    name=\"manager_agent\",\n",
    "    team=[web_agent, finance_agent],\n",
    "    show_tool_colls=True,\n",
    "    markdown=True,\n",
    "    instructions=[\"Always include sources\", \"Use tables to display data\"]\n",
    ")\n",
    "\n",
    "# Request response from manager agent (focuses on Groq)\n",
    "manager_agent.print_response(\"Summarize analyst recommendations and share the latest news for NVDA\", stream=True)"
   ]
  }
 ],
 "metadata": {
  "colab": {
   "provenance": []
  },
  "kernelspec": {
   "display_name": "Python 3 (ipykernel)",
   "language": "python",
   "name": "python3"
  },
  "language_info": {
   "codemirror_mode": {
    "name": "ipython",
    "version": 3
   },
   "file_extension": ".py",
   "mimetype": "text/x-python",
   "name": "python",
   "nbconvert_exporter": "python",
   "pygments_lexer": "ipython3",
   "version": "3.9.12"
  }
 },
 "nbformat": 4,
 "nbformat_minor": 1
}
